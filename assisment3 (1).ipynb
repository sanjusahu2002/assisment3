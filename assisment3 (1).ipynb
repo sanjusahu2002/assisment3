{
 "cells": [
  {
   "cell_type": "code",
   "execution_count": 57,
   "id": "c1f7664d-2dc7-4c6c-b82d-f18b0a8c89b7",
   "metadata": {},
   "outputs": [],
   "source": [
    "# Q1. Which keyword is used to create a function? Create a function to return a list of odd numbers in the \n",
    "# range of 1 to 25.\n",
    "# def is the keyword to use in python to create function.e.g \n",
    "def _list(c):\n",
    "    l =[]\n",
    "    for i in range(c):\n",
    "        if i%2!=0:\n",
    "            l.append(i)\n",
    "    return l"
   ]
  },
  {
   "cell_type": "code",
   "execution_count": 58,
   "id": "1a8cdfe1-efe5-415c-8d0f-ef9976b2db69",
   "metadata": {},
   "outputs": [
    {
     "data": {
      "text/plain": [
       "[1, 3, 5, 7, 9, 11, 13, 15, 17, 19, 21, 23, 25]"
      ]
     },
     "execution_count": 58,
     "metadata": {},
     "output_type": "execute_result"
    }
   ],
   "source": [
    "_list(26)"
   ]
  },
  {
   "cell_type": "code",
   "execution_count": 60,
   "id": "47549811-de7a-4a95-99f4-95503505910b",
   "metadata": {},
   "outputs": [],
   "source": [
    "# Q2. Why *args and **kwargs is used in some functions? Create a function each for *args and **kwargs \n",
    "# to demonstrate their use.\n",
    "# *args it used in funcion to take multi-input and it stored input in a tuple\n",
    "# **kwargs it takes input in key value pair and it stored value in dictionary type data structure.\n",
    "def test(*args):\n",
    "    return args\n"
   ]
  },
  {
   "cell_type": "code",
   "execution_count": 61,
   "id": "b4541004-435d-4108-a091-a6a14fd7c73e",
   "metadata": {},
   "outputs": [
    {
     "data": {
      "text/plain": [
       "(2, 34, 4, 5, 2, 'sanju', 23.3)"
      ]
     },
     "execution_count": 61,
     "metadata": {},
     "output_type": "execute_result"
    }
   ],
   "source": [
    "test(2,34,4,5,2,\"sanju\",23.3)"
   ]
  },
  {
   "cell_type": "code",
   "execution_count": 62,
   "id": "6860996b-5c80-4240-a8e9-011d0d72a9d4",
   "metadata": {},
   "outputs": [
    {
     "data": {
      "text/plain": [
       "tuple"
      ]
     },
     "execution_count": 62,
     "metadata": {},
     "output_type": "execute_result"
    }
   ],
   "source": [
    "type(test())"
   ]
  },
  {
   "cell_type": "code",
   "execution_count": 64,
   "id": "7eb409ea-f051-47e0-9a76-1fcda359ec59",
   "metadata": {},
   "outputs": [],
   "source": [
    "def test2(**kwargs):\n",
    "    return kwargs\n"
   ]
  },
  {
   "cell_type": "code",
   "execution_count": 65,
   "id": "493a15ba-69b9-4c2f-a640-a98518ecdf1e",
   "metadata": {},
   "outputs": [
    {
     "data": {
      "text/plain": [
       "{'num': 1, 'num2': 3, 'num4': 'sanju'}"
      ]
     },
     "execution_count": 65,
     "metadata": {},
     "output_type": "execute_result"
    }
   ],
   "source": [
    "test2(num =1,num2 =3,num4 =\"sanju\")"
   ]
  },
  {
   "cell_type": "code",
   "execution_count": 66,
   "id": "02503759-7329-45d6-a24b-ba4903ef8424",
   "metadata": {},
   "outputs": [
    {
     "data": {
      "text/plain": [
       "dict"
      ]
     },
     "execution_count": 66,
     "metadata": {},
     "output_type": "execute_result"
    }
   ],
   "source": [
    "type(test2())"
   ]
  },
  {
   "cell_type": "code",
   "execution_count": null,
   "id": "7e75ebbd-bc0b-4a0f-8227-f03ef99495c0",
   "metadata": {},
   "outputs": [],
   "source": [
    "# Q3.  What is an iterator in python? Name the method used to initialise the iterator object and the method \n",
    "# used for iteration. Use these methods to print the first five elements of the given list [2, 4, 6, 8, 10, 12, 14, \n",
    "# 16, 18, 20]"
   ]
  },
  {
   "cell_type": "code",
   "execution_count": 2,
   "id": "e5a058d8-7711-4465-aabc-ce35da862e67",
   "metadata": {},
   "outputs": [],
   "source": [
    "# Iterator in python is a type of function which is used to convert string into interator ,by dafault string is not a \n",
    "# ittrator . we use iter() function to crate it.\n",
    "list =[ 2,4,6,8,10,12,14,16,18,20]\n",
    "a =iter(list)"
   ]
  },
  {
   "cell_type": "code",
   "execution_count": 3,
   "id": "54971f40-71ea-4fc6-8c67-1f95e59ade3b",
   "metadata": {},
   "outputs": [
    {
     "name": "stdout",
     "output_type": "stream",
     "text": [
      "2\n",
      "4\n",
      "6\n",
      "8\n",
      "10\n"
     ]
    }
   ],
   "source": [
    "for s in range(1,6):\n",
    "    print(next(a))"
   ]
  },
  {
   "cell_type": "code",
   "execution_count": 12,
   "id": "74daa546-cc64-4c8f-9c4b-b1f313c5790a",
   "metadata": {},
   "outputs": [],
   "source": [
    "# Q4.  What is a generator function in python? Why yield keyword is used? Give an example of a generator \n",
    "# function\n",
    "# Generator function used in python to minimise the memory consumption . we can use normal function also but \n",
    "# the memory consumption by the fucntion is large for large number of data.\n",
    "# yield is used instead of print or return because it through out result when it neccesary .it helps in minimise memory \n",
    "# consumption.\n",
    "def test2(a):\n",
    "    for i in range(a):\n",
    "        if i <20:\n",
    "            yield i\n",
    "            "
   ]
  },
  {
   "cell_type": "code",
   "execution_count": 13,
   "id": "2ed137ff-852b-4e3c-ae58-62ea0e691e6a",
   "metadata": {},
   "outputs": [
    {
     "data": {
      "text/plain": [
       "<generator object test2 at 0x7f6829e46110>"
      ]
     },
     "execution_count": 13,
     "metadata": {},
     "output_type": "execute_result"
    }
   ],
   "source": [
    "test2(20)"
   ]
  },
  {
   "cell_type": "code",
   "execution_count": 18,
   "id": "8e69c228-8109-40c2-9f63-7ef7d05dccc1",
   "metadata": {},
   "outputs": [
    {
     "name": "stdout",
     "output_type": "stream",
     "text": [
      "0\n",
      "2\n",
      "4\n",
      "6\n",
      "8\n",
      "10\n",
      "12\n",
      "14\n",
      "16\n",
      "18\n",
      "20\n",
      "22\n",
      "24\n",
      "26\n",
      "28\n"
     ]
    }
   ],
   "source": [
    "for i in test2(15):\n",
    "    print(i*2)"
   ]
  },
  {
   "cell_type": "code",
   "execution_count": 17,
   "id": "850f4202-e8ec-4c71-bf61-7052ceb2782c",
   "metadata": {},
   "outputs": [
    {
     "data": {
      "text/plain": [
       "<generator object test2 at 0x7f6829e46420>"
      ]
     },
     "execution_count": 17,
     "metadata": {},
     "output_type": "execute_result"
    }
   ],
   "source": [
    "# Q5. Create a generator function for prime numbers less than 1000. Use the next() method to print the \n",
    "# first 20 prime numbers \n"
   ]
  },
  {
   "cell_type": "code",
   "execution_count": 53,
   "id": "a65f86ef-2e4f-417e-ba7e-3ba80abc1a0b",
   "metadata": {},
   "outputs": [],
   "source": [
    "def prime (y):\n",
    "    x =1\n",
    "    \n",
    "    for i in range(x,y+1):\n",
    "        if i >1:\n",
    "            for j in range(2,i):\n",
    "                if i%j ==0:\n",
    "                    break\n",
    "            else:\n",
    "                yield i\n",
    "                    "
   ]
  },
  {
   "cell_type": "code",
   "execution_count": 101,
   "id": "632b529e-b005-4dad-a6d9-bd07d22fe268",
   "metadata": {},
   "outputs": [],
   "source": [
    "m =prime(1000)"
   ]
  },
  {
   "cell_type": "code",
   "execution_count": null,
   "id": "3d0ad601-d6f3-4153-b4e4-2298e728718d",
   "metadata": {},
   "outputs": [],
   "source": []
  },
  {
   "cell_type": "code",
   "execution_count": 103,
   "id": "29066b9f-df0f-4e0f-92e4-d5ebd3ed4629",
   "metadata": {},
   "outputs": [
    {
     "name": "stdout",
     "output_type": "stream",
     "text": [
      "2\n",
      "3\n",
      "5\n",
      "7\n",
      "11\n",
      "13\n",
      "17\n",
      "19\n",
      "23\n",
      "29\n",
      "31\n",
      "37\n",
      "41\n",
      "43\n",
      "47\n",
      "53\n",
      "59\n",
      "61\n",
      "67\n"
     ]
    }
   ],
   "source": [
    "for k in range(1,20):\n",
    "    print(next(m))"
   ]
  },
  {
   "cell_type": "code",
   "execution_count": 111,
   "id": "4bf32cde-2989-4a04-bd09-b701aee1d9ca",
   "metadata": {},
   "outputs": [],
   "source": [
    "# Q6. Write a python program to print the first 10 Fibonacci numbers using a while loop.\n",
    "def test_fib(n):\n",
    "    a,b =0,1\n",
    "    while i<=n:\n",
    "        yield a\n",
    "        a,b =b,a+b\n",
    "        i+1\n",
    "        \n",
    "        "
   ]
  },
  {
   "cell_type": "code",
   "execution_count": 112,
   "id": "ddd17b26-4e23-41b3-b5f5-01f810491485",
   "metadata": {},
   "outputs": [],
   "source": [
    "fib =test_fib(10)"
   ]
  },
  {
   "cell_type": "code",
   "execution_count": 113,
   "id": "adc90880-1e03-429d-93e7-f8b100d516f2",
   "metadata": {},
   "outputs": [
    {
     "name": "stdout",
     "output_type": "stream",
     "text": [
      "0\n",
      "1\n",
      "1\n",
      "2\n",
      "3\n",
      "5\n",
      "8\n",
      "13\n",
      "21\n",
      "34\n"
     ]
    }
   ],
   "source": [
    "for i in range(10):\n",
    "    print(next(fib))"
   ]
  },
  {
   "cell_type": "code",
   "execution_count": 14,
   "id": "a9fc4564-c6cd-48d7-96e4-e51157a50610",
   "metadata": {},
   "outputs": [
    {
     "name": "stdout",
     "output_type": "stream",
     "text": [
      "['p', 'w', 's', 'k', 'i', 'l', 'l', 's']\n"
     ]
    }
   ],
   "source": [
    "#Q7. Write a List Comprehension to iterate through the given string: ‘pwskills’.\n",
    "\n",
    "# Expected output: ['p', 'w', 's', 'k', 'i', 'l', 'l', 's']\n",
    "list =[i for i in 'pwskills']\n",
    "print(list)"
   ]
  },
  {
   "cell_type": "code",
   "execution_count": 18,
   "id": "fe5915fa-81b3-4e37-87ff-09ce200e95c4",
   "metadata": {},
   "outputs": [
    {
     "name": "stdout",
     "output_type": "stream",
     "text": [
      "[1, 3, 5, 7, 9, 11, 13, 15, 17, 19, 21, 23, 25, 27, 29, 31, 33, 35, 37, 39, 41, 43, 45, 47, 49, 51, 53, 55, 57, 59, 61, 63, 65, 67, 69, 71, 73, 75, 77, 79, 81, 83, 85, 87, 89, 91, 93, 95, 97, 99]\n"
     ]
    }
   ],
   "source": [
    "# Q9. Write a code to print odd numbers from 1 to 100 using list comprehension.\n",
    "list2 =[x for x in range(100) if x%2 !=0]\n",
    "print(list2)"
   ]
  },
  {
   "cell_type": "code",
   "execution_count": 19,
   "id": "88f11122-1ca7-4ef4-aad7-3f9d45e9db2e",
   "metadata": {},
   "outputs": [
    {
     "name": "stdin",
     "output_type": "stream",
     "text": [
      "Enter a number 344\n"
     ]
    },
    {
     "name": "stdout",
     "output_type": "stream",
     "text": [
      "No, its not a palindrome\n"
     ]
    }
   ],
   "source": [
    "# Q8. Write a python program to check whether a given number is Palindrome or not using a while loop\n",
    "num = input(\"Enter a number\")\n",
    "if num == num[::-1]:\n",
    "\tprint(\"Yes its a palindrome\")\n",
    "else:\n",
    "\tprint(\"No, its not a palindrome\")\n"
   ]
  },
  {
   "cell_type": "code",
   "execution_count": null,
   "id": "b1223ee6-3e03-4c1c-b836-8002c37b2d50",
   "metadata": {},
   "outputs": [],
   "source": []
  }
 ],
 "metadata": {
  "kernelspec": {
   "display_name": "Python 3 (ipykernel)",
   "language": "python",
   "name": "python3"
  },
  "language_info": {
   "codemirror_mode": {
    "name": "ipython",
    "version": 3
   },
   "file_extension": ".py",
   "mimetype": "text/x-python",
   "name": "python",
   "nbconvert_exporter": "python",
   "pygments_lexer": "ipython3",
   "version": "3.10.8"
  }
 },
 "nbformat": 4,
 "nbformat_minor": 5
}
